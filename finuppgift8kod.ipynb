{
  "cells": [
    {
      "cell_type": "markdown",
      "metadata": {
        "id": "JVuxTTMyREIB"
      },
      "source": [
        "# Assignment 8: Ge'ez character recognition"
      ]
    },
    {
      "cell_type": "markdown",
      "source": [
        "## Data-preperation"
      ],
      "metadata": {
        "id": "uI0NmWzMGT5K"
      }
    },
    {
      "cell_type": "code",
      "execution_count": null,
      "metadata": {
        "id": "cECBu0Ld_RzW"
      },
      "outputs": [],
      "source": [
        "!pip3 install Pillow"
      ]
    },
    {
      "cell_type": "code",
      "execution_count": null,
      "metadata": {
        "id": "0qMghZbM_U1U"
      },
      "outputs": [],
      "source": [
        "!pip3 install tensorflow"
      ]
    },
    {
      "cell_type": "code",
      "source": [
        "import tensorflow as tf\n",
        "import tensorflow.keras as keras\n",
        "from tensorflow.keras.layers import Dense, Flatten, Conv2D, MaxPooling2D\n",
        "from tensorflow.keras.models import Sequential\n",
        "from tensorflow.keras.utils import to_categorical\n",
        "#from keras.datasets import mnist\n",
        "\n",
        "import shutil\n",
        "from google.colab import files\n",
        "from pathlib import Path\n",
        "import pandas as pd\n",
        "import numpy as np\n",
        "from PIL import Image\n",
        "from sklearn.model_selection import train_test_split\n",
        "from matplotlib import pyplot as plt"
      ],
      "metadata": {
        "id": "g5dda8_2gP4X"
      },
      "execution_count": null,
      "outputs": []
    },
    {
      "cell_type": "code",
      "execution_count": null,
      "metadata": {
        "colab": {
          "base_uri": "https://localhost:8080/",
          "height": 73
        },
        "id": "CAO2SiPpU06S",
        "outputId": "82b64d40-96ce-46bb-a3d2-846bd61b8099"
      },
      "outputs": [
        {
          "output_type": "display_data",
          "data": {
            "text/plain": [
              "<IPython.core.display.HTML object>"
            ],
            "text/html": [
              "\n",
              "     <input type=\"file\" id=\"files-1fd10227-3a06-41cb-ad31-9dbc0e855743\" name=\"files[]\" multiple disabled\n",
              "        style=\"border:none\" />\n",
              "     <output id=\"result-1fd10227-3a06-41cb-ad31-9dbc0e855743\">\n",
              "      Upload widget is only available when the cell has been executed in the\n",
              "      current browser session. Please rerun this cell to enable.\n",
              "      </output>\n",
              "      <script>// Copyright 2017 Google LLC\n",
              "//\n",
              "// Licensed under the Apache License, Version 2.0 (the \"License\");\n",
              "// you may not use this file except in compliance with the License.\n",
              "// You may obtain a copy of the License at\n",
              "//\n",
              "//      http://www.apache.org/licenses/LICENSE-2.0\n",
              "//\n",
              "// Unless required by applicable law or agreed to in writing, software\n",
              "// distributed under the License is distributed on an \"AS IS\" BASIS,\n",
              "// WITHOUT WARRANTIES OR CONDITIONS OF ANY KIND, either express or implied.\n",
              "// See the License for the specific language governing permissions and\n",
              "// limitations under the License.\n",
              "\n",
              "/**\n",
              " * @fileoverview Helpers for google.colab Python module.\n",
              " */\n",
              "(function(scope) {\n",
              "function span(text, styleAttributes = {}) {\n",
              "  const element = document.createElement('span');\n",
              "  element.textContent = text;\n",
              "  for (const key of Object.keys(styleAttributes)) {\n",
              "    element.style[key] = styleAttributes[key];\n",
              "  }\n",
              "  return element;\n",
              "}\n",
              "\n",
              "// Max number of bytes which will be uploaded at a time.\n",
              "const MAX_PAYLOAD_SIZE = 100 * 1024;\n",
              "\n",
              "function _uploadFiles(inputId, outputId) {\n",
              "  const steps = uploadFilesStep(inputId, outputId);\n",
              "  const outputElement = document.getElementById(outputId);\n",
              "  // Cache steps on the outputElement to make it available for the next call\n",
              "  // to uploadFilesContinue from Python.\n",
              "  outputElement.steps = steps;\n",
              "\n",
              "  return _uploadFilesContinue(outputId);\n",
              "}\n",
              "\n",
              "// This is roughly an async generator (not supported in the browser yet),\n",
              "// where there are multiple asynchronous steps and the Python side is going\n",
              "// to poll for completion of each step.\n",
              "// This uses a Promise to block the python side on completion of each step,\n",
              "// then passes the result of the previous step as the input to the next step.\n",
              "function _uploadFilesContinue(outputId) {\n",
              "  const outputElement = document.getElementById(outputId);\n",
              "  const steps = outputElement.steps;\n",
              "\n",
              "  const next = steps.next(outputElement.lastPromiseValue);\n",
              "  return Promise.resolve(next.value.promise).then((value) => {\n",
              "    // Cache the last promise value to make it available to the next\n",
              "    // step of the generator.\n",
              "    outputElement.lastPromiseValue = value;\n",
              "    return next.value.response;\n",
              "  });\n",
              "}\n",
              "\n",
              "/**\n",
              " * Generator function which is called between each async step of the upload\n",
              " * process.\n",
              " * @param {string} inputId Element ID of the input file picker element.\n",
              " * @param {string} outputId Element ID of the output display.\n",
              " * @return {!Iterable<!Object>} Iterable of next steps.\n",
              " */\n",
              "function* uploadFilesStep(inputId, outputId) {\n",
              "  const inputElement = document.getElementById(inputId);\n",
              "  inputElement.disabled = false;\n",
              "\n",
              "  const outputElement = document.getElementById(outputId);\n",
              "  outputElement.innerHTML = '';\n",
              "\n",
              "  const pickedPromise = new Promise((resolve) => {\n",
              "    inputElement.addEventListener('change', (e) => {\n",
              "      resolve(e.target.files);\n",
              "    });\n",
              "  });\n",
              "\n",
              "  const cancel = document.createElement('button');\n",
              "  inputElement.parentElement.appendChild(cancel);\n",
              "  cancel.textContent = 'Cancel upload';\n",
              "  const cancelPromise = new Promise((resolve) => {\n",
              "    cancel.onclick = () => {\n",
              "      resolve(null);\n",
              "    };\n",
              "  });\n",
              "\n",
              "  // Wait for the user to pick the files.\n",
              "  const files = yield {\n",
              "    promise: Promise.race([pickedPromise, cancelPromise]),\n",
              "    response: {\n",
              "      action: 'starting',\n",
              "    }\n",
              "  };\n",
              "\n",
              "  cancel.remove();\n",
              "\n",
              "  // Disable the input element since further picks are not allowed.\n",
              "  inputElement.disabled = true;\n",
              "\n",
              "  if (!files) {\n",
              "    return {\n",
              "      response: {\n",
              "        action: 'complete',\n",
              "      }\n",
              "    };\n",
              "  }\n",
              "\n",
              "  for (const file of files) {\n",
              "    const li = document.createElement('li');\n",
              "    li.append(span(file.name, {fontWeight: 'bold'}));\n",
              "    li.append(span(\n",
              "        `(${file.type || 'n/a'}) - ${file.size} bytes, ` +\n",
              "        `last modified: ${\n",
              "            file.lastModifiedDate ? file.lastModifiedDate.toLocaleDateString() :\n",
              "                                    'n/a'} - `));\n",
              "    const percent = span('0% done');\n",
              "    li.appendChild(percent);\n",
              "\n",
              "    outputElement.appendChild(li);\n",
              "\n",
              "    const fileDataPromise = new Promise((resolve) => {\n",
              "      const reader = new FileReader();\n",
              "      reader.onload = (e) => {\n",
              "        resolve(e.target.result);\n",
              "      };\n",
              "      reader.readAsArrayBuffer(file);\n",
              "    });\n",
              "    // Wait for the data to be ready.\n",
              "    let fileData = yield {\n",
              "      promise: fileDataPromise,\n",
              "      response: {\n",
              "        action: 'continue',\n",
              "      }\n",
              "    };\n",
              "\n",
              "    // Use a chunked sending to avoid message size limits. See b/62115660.\n",
              "    let position = 0;\n",
              "    do {\n",
              "      const length = Math.min(fileData.byteLength - position, MAX_PAYLOAD_SIZE);\n",
              "      const chunk = new Uint8Array(fileData, position, length);\n",
              "      position += length;\n",
              "\n",
              "      const base64 = btoa(String.fromCharCode.apply(null, chunk));\n",
              "      yield {\n",
              "        response: {\n",
              "          action: 'append',\n",
              "          file: file.name,\n",
              "          data: base64,\n",
              "        },\n",
              "      };\n",
              "\n",
              "      let percentDone = fileData.byteLength === 0 ?\n",
              "          100 :\n",
              "          Math.round((position / fileData.byteLength) * 100);\n",
              "      percent.textContent = `${percentDone}% done`;\n",
              "\n",
              "    } while (position < fileData.byteLength);\n",
              "  }\n",
              "\n",
              "  // All done.\n",
              "  yield {\n",
              "    response: {\n",
              "      action: 'complete',\n",
              "    }\n",
              "  };\n",
              "}\n",
              "\n",
              "scope.google = scope.google || {};\n",
              "scope.google.colab = scope.google.colab || {};\n",
              "scope.google.colab._files = {\n",
              "  _uploadFiles,\n",
              "  _uploadFilesContinue,\n",
              "};\n",
              "})(self);\n",
              "</script> "
            ]
          },
          "metadata": {}
        },
        {
          "output_type": "stream",
          "name": "stdout",
          "text": [
            "Saving Amharic Character Dataset 1.rar to Amharic Character Dataset 1.rar\n"
          ]
        }
      ],
      "source": [
        "geezFile1 = files.upload()"
      ]
    },
    {
      "cell_type": "code",
      "execution_count": null,
      "metadata": {
        "colab": {
          "base_uri": "https://localhost:8080/",
          "height": 73
        },
        "id": "9JmNqExXVeKP",
        "outputId": "fe422cd4-9714-47af-a0df-926e1f67be76"
      },
      "outputs": [
        {
          "output_type": "display_data",
          "data": {
            "text/plain": [
              "<IPython.core.display.HTML object>"
            ],
            "text/html": [
              "\n",
              "     <input type=\"file\" id=\"files-0fc6ff60-2cef-4faa-ac39-554c4f9aeab7\" name=\"files[]\" multiple disabled\n",
              "        style=\"border:none\" />\n",
              "     <output id=\"result-0fc6ff60-2cef-4faa-ac39-554c4f9aeab7\">\n",
              "      Upload widget is only available when the cell has been executed in the\n",
              "      current browser session. Please rerun this cell to enable.\n",
              "      </output>\n",
              "      <script>// Copyright 2017 Google LLC\n",
              "//\n",
              "// Licensed under the Apache License, Version 2.0 (the \"License\");\n",
              "// you may not use this file except in compliance with the License.\n",
              "// You may obtain a copy of the License at\n",
              "//\n",
              "//      http://www.apache.org/licenses/LICENSE-2.0\n",
              "//\n",
              "// Unless required by applicable law or agreed to in writing, software\n",
              "// distributed under the License is distributed on an \"AS IS\" BASIS,\n",
              "// WITHOUT WARRANTIES OR CONDITIONS OF ANY KIND, either express or implied.\n",
              "// See the License for the specific language governing permissions and\n",
              "// limitations under the License.\n",
              "\n",
              "/**\n",
              " * @fileoverview Helpers for google.colab Python module.\n",
              " */\n",
              "(function(scope) {\n",
              "function span(text, styleAttributes = {}) {\n",
              "  const element = document.createElement('span');\n",
              "  element.textContent = text;\n",
              "  for (const key of Object.keys(styleAttributes)) {\n",
              "    element.style[key] = styleAttributes[key];\n",
              "  }\n",
              "  return element;\n",
              "}\n",
              "\n",
              "// Max number of bytes which will be uploaded at a time.\n",
              "const MAX_PAYLOAD_SIZE = 100 * 1024;\n",
              "\n",
              "function _uploadFiles(inputId, outputId) {\n",
              "  const steps = uploadFilesStep(inputId, outputId);\n",
              "  const outputElement = document.getElementById(outputId);\n",
              "  // Cache steps on the outputElement to make it available for the next call\n",
              "  // to uploadFilesContinue from Python.\n",
              "  outputElement.steps = steps;\n",
              "\n",
              "  return _uploadFilesContinue(outputId);\n",
              "}\n",
              "\n",
              "// This is roughly an async generator (not supported in the browser yet),\n",
              "// where there are multiple asynchronous steps and the Python side is going\n",
              "// to poll for completion of each step.\n",
              "// This uses a Promise to block the python side on completion of each step,\n",
              "// then passes the result of the previous step as the input to the next step.\n",
              "function _uploadFilesContinue(outputId) {\n",
              "  const outputElement = document.getElementById(outputId);\n",
              "  const steps = outputElement.steps;\n",
              "\n",
              "  const next = steps.next(outputElement.lastPromiseValue);\n",
              "  return Promise.resolve(next.value.promise).then((value) => {\n",
              "    // Cache the last promise value to make it available to the next\n",
              "    // step of the generator.\n",
              "    outputElement.lastPromiseValue = value;\n",
              "    return next.value.response;\n",
              "  });\n",
              "}\n",
              "\n",
              "/**\n",
              " * Generator function which is called between each async step of the upload\n",
              " * process.\n",
              " * @param {string} inputId Element ID of the input file picker element.\n",
              " * @param {string} outputId Element ID of the output display.\n",
              " * @return {!Iterable<!Object>} Iterable of next steps.\n",
              " */\n",
              "function* uploadFilesStep(inputId, outputId) {\n",
              "  const inputElement = document.getElementById(inputId);\n",
              "  inputElement.disabled = false;\n",
              "\n",
              "  const outputElement = document.getElementById(outputId);\n",
              "  outputElement.innerHTML = '';\n",
              "\n",
              "  const pickedPromise = new Promise((resolve) => {\n",
              "    inputElement.addEventListener('change', (e) => {\n",
              "      resolve(e.target.files);\n",
              "    });\n",
              "  });\n",
              "\n",
              "  const cancel = document.createElement('button');\n",
              "  inputElement.parentElement.appendChild(cancel);\n",
              "  cancel.textContent = 'Cancel upload';\n",
              "  const cancelPromise = new Promise((resolve) => {\n",
              "    cancel.onclick = () => {\n",
              "      resolve(null);\n",
              "    };\n",
              "  });\n",
              "\n",
              "  // Wait for the user to pick the files.\n",
              "  const files = yield {\n",
              "    promise: Promise.race([pickedPromise, cancelPromise]),\n",
              "    response: {\n",
              "      action: 'starting',\n",
              "    }\n",
              "  };\n",
              "\n",
              "  cancel.remove();\n",
              "\n",
              "  // Disable the input element since further picks are not allowed.\n",
              "  inputElement.disabled = true;\n",
              "\n",
              "  if (!files) {\n",
              "    return {\n",
              "      response: {\n",
              "        action: 'complete',\n",
              "      }\n",
              "    };\n",
              "  }\n",
              "\n",
              "  for (const file of files) {\n",
              "    const li = document.createElement('li');\n",
              "    li.append(span(file.name, {fontWeight: 'bold'}));\n",
              "    li.append(span(\n",
              "        `(${file.type || 'n/a'}) - ${file.size} bytes, ` +\n",
              "        `last modified: ${\n",
              "            file.lastModifiedDate ? file.lastModifiedDate.toLocaleDateString() :\n",
              "                                    'n/a'} - `));\n",
              "    const percent = span('0% done');\n",
              "    li.appendChild(percent);\n",
              "\n",
              "    outputElement.appendChild(li);\n",
              "\n",
              "    const fileDataPromise = new Promise((resolve) => {\n",
              "      const reader = new FileReader();\n",
              "      reader.onload = (e) => {\n",
              "        resolve(e.target.result);\n",
              "      };\n",
              "      reader.readAsArrayBuffer(file);\n",
              "    });\n",
              "    // Wait for the data to be ready.\n",
              "    let fileData = yield {\n",
              "      promise: fileDataPromise,\n",
              "      response: {\n",
              "        action: 'continue',\n",
              "      }\n",
              "    };\n",
              "\n",
              "    // Use a chunked sending to avoid message size limits. See b/62115660.\n",
              "    let position = 0;\n",
              "    do {\n",
              "      const length = Math.min(fileData.byteLength - position, MAX_PAYLOAD_SIZE);\n",
              "      const chunk = new Uint8Array(fileData, position, length);\n",
              "      position += length;\n",
              "\n",
              "      const base64 = btoa(String.fromCharCode.apply(null, chunk));\n",
              "      yield {\n",
              "        response: {\n",
              "          action: 'append',\n",
              "          file: file.name,\n",
              "          data: base64,\n",
              "        },\n",
              "      };\n",
              "\n",
              "      let percentDone = fileData.byteLength === 0 ?\n",
              "          100 :\n",
              "          Math.round((position / fileData.byteLength) * 100);\n",
              "      percent.textContent = `${percentDone}% done`;\n",
              "\n",
              "    } while (position < fileData.byteLength);\n",
              "  }\n",
              "\n",
              "  // All done.\n",
              "  yield {\n",
              "    response: {\n",
              "      action: 'complete',\n",
              "    }\n",
              "  };\n",
              "}\n",
              "\n",
              "scope.google = scope.google || {};\n",
              "scope.google.colab = scope.google.colab || {};\n",
              "scope.google.colab._files = {\n",
              "  _uploadFiles,\n",
              "  _uploadFilesContinue,\n",
              "};\n",
              "})(self);\n",
              "</script> "
            ]
          },
          "metadata": {}
        },
        {
          "output_type": "stream",
          "name": "stdout",
          "text": [
            "Saving Amharic Character Dataset 2.rar to Amharic Character Dataset 2.rar\n"
          ]
        }
      ],
      "source": [
        "geezFile2 = files.upload()"
      ]
    },
    {
      "cell_type": "code",
      "execution_count": null,
      "metadata": {
        "id": "VGTGbmHeW1Qn"
      },
      "outputs": [],
      "source": [
        "# Makes a folder into which it unrars both files\n",
        "!rm datafolder -rf\n",
        "!mkdir \"datafolder\" -p\n",
        "%cd \"datafolder\"\n",
        "!unrar e \"../Amharic Character Dataset 1.rar\"\n",
        "!unrar e \"../Amharic Character Dataset 2.rar\"\n",
        "%cd \"..\""
      ]
    },
    {
      "cell_type": "code",
      "execution_count": null,
      "metadata": {
        "id": "0LbSMYXfZ8zM"
      },
      "outputs": [],
      "source": [
        "p = Path('datafolder')\n",
        "unsortedLabels = [(x.name).split(\".\")[0] for x in p.iterdir() if not x.is_dir()]\n",
        "sortedLabels = sorted(unsortedLabels)"
      ]
    },
    {
      "cell_type": "code",
      "source": [
        "# Deletes and remakes the datafolder with categories\n",
        "!rm datafoldercat -rf\n",
        "!mkdir \"datafoldercat\" -p"
      ],
      "metadata": {
        "id": "sqevK5d6NxIe"
      },
      "execution_count": null,
      "outputs": []
    },
    {
      "cell_type": "code",
      "source": [
        "# Copies all files from datafolder into the catagorically sorted one\n",
        "# And creates new folders for each different character\n",
        "newp = Path('datafoldercat')\n",
        "\n",
        "for x in p.iterdir():\n",
        "  curname = (x.name).split(\".\")[0]\n",
        "  curpath = Path(\"datafoldercat\" + \"/\" + curname)\n",
        "  curpath.mkdir(parents=True, exist_ok=True)\n",
        "  shutil.copy(x, (\"datafoldercat\" + \"/\" + curname))"
      ],
      "metadata": {
        "id": "_h3cFkm2NTYS"
      },
      "execution_count": null,
      "outputs": []
    },
    {
      "cell_type": "code",
      "source": [
        "thedata = tf.keras.utils.image_dataset_from_directory(\"datafoldercat\", image_size=(28, 28), color_mode='grayscale')"
      ],
      "metadata": {
        "colab": {
          "base_uri": "https://localhost:8080/"
        },
        "id": "ou2RU1UaS87W",
        "outputId": "3e562f94-1cd2-4942-c78f-7ea4c8539072"
      },
      "execution_count": null,
      "outputs": [
        {
          "output_type": "stream",
          "name": "stdout",
          "text": [
            "Found 37652 files belonging to 238 classes.\n"
          ]
        }
      ]
    },
    {
      "cell_type": "code",
      "source": [
        "data_r = thedata.as_numpy_iterator().next()\n",
        "plt.imshow(data_r[0][0].astype(int))"
      ],
      "metadata": {
        "id": "_N7zA9qsS84Y",
        "colab": {
          "base_uri": "https://localhost:8080/",
          "height": 282
        },
        "outputId": "90fedc80-ace1-4109-ed0c-108b0a58e558"
      },
      "execution_count": null,
      "outputs": [
        {
          "output_type": "execute_result",
          "data": {
            "text/plain": [
              "<matplotlib.image.AxesImage at 0x7f6d1d563340>"
            ]
          },
          "metadata": {},
          "execution_count": 180
        },
        {
          "output_type": "display_data",
          "data": {
            "text/plain": [
              "<Figure size 432x288 with 1 Axes>"
            ],
            "image/png": "[encoded data removed]"
          },
          "metadata": {
            "needs_background": "light"
          }
        }
      ]
    },
    {
      "cell_type": "code",
      "source": [
        "trainDatasetr = tf.keras.utils.image_dataset_from_directory(\n",
        "    \"datafoldercat\",\n",
        "    image_size=(28, 28),\n",
        "    validation_split = 0.2,\n",
        "    subset = \"training\",\n",
        "    seed = 12345,\n",
        "    shuffle = True,\n",
        "    color_mode='grayscale'\n",
        "    )\n",
        "\n",
        "valDatasetr = tf.keras.utils.image_dataset_from_directory(\n",
        "    \"datafoldercat\",\n",
        "    image_size=(28, 28),\n",
        "    validation_split = 0.2,\n",
        "    subset = \"validation\",\n",
        "    seed = 12345,\n",
        "    shuffle = True,\n",
        "    color_mode='grayscale'\n",
        "    )"
      ],
      "metadata": {
        "colab": {
          "base_uri": "https://localhost:8080/"
        },
        "id": "1wwHfLeMS8sb",
        "outputId": "0b9c4189-3111-4cdb-c029-3e00447fb77f"
      },
      "execution_count": null,
      "outputs": [
        {
          "output_type": "stream",
          "name": "stdout",
          "text": [
            "Found 37652 files belonging to 238 classes.\n",
            "Using 30122 files for training.\n",
            "Found 37652 files belonging to 238 classes.\n",
            "Using 7530 files for validation.\n"
          ]
        }
      ]
    },
    {
      "cell_type": "code",
      "source": [
        "def tupdiv(x,y):\n",
        "  return (tf.cast(x/255. ,tf.float32),y)\n",
        "\n",
        "trainDataset = trainDatasetr.map(tupdiv)\n",
        "valDataset   = valDatasetr.map(tupdiv)"
      ],
      "metadata": {
        "id": "KB-iB4TN-Xc7"
      },
      "execution_count": null,
      "outputs": []
    },
    {
      "cell_type": "markdown",
      "source": [
        "## Models and training"
      ],
      "metadata": {
        "id": "UXr8ZDu6GhW5"
      }
    },
    {
      "cell_type": "code",
      "source": [
        "def make_Network(imSize,numClasses):\n",
        "\n",
        "\n",
        "  model = Sequential()\n",
        "  model.add(Conv2D(32, (3, 3), input_shape = (imSize,imSize,1), activation = 'relu'))\n",
        "  model.add(MaxPooling2D(pool_size = (2, 2)))\n",
        "\n",
        "  model.add(Conv2D(32, (3, 3), activation = 'relu'))\n",
        "  model.add(MaxPooling2D(pool_size = (2, 2)))\n",
        "\n",
        "  model.add(Flatten())\n",
        "  model.add(Dense(units = 256, activation = 'relu'))\n",
        "  # Units are equal to the number of classes\n",
        "  model.add(Dense(units = numClasses, activation = 'softmax'))\n",
        "\n",
        "  model.compile(optimizer = 'adam', loss = 'sparse_categorical_crossentropy', metrics = ['accuracy'])\n",
        "  model.summary()\n",
        "\n",
        "  return model"
      ],
      "metadata": {
        "id": "Dd-N5XOg36JJ"
      },
      "execution_count": null,
      "outputs": []
    },
    {
      "cell_type": "code",
      "source": [
        "model1 = make_Network(28,238)\n",
        "reportHist = model1.fit(trainDataset,\n",
        "          batch_size=32,\n",
        "          epochs=15,\n",
        "          validation_data=valDataset);"
      ],
      "metadata": {
        "colab": {
          "base_uri": "https://localhost:8080/"
        },
        "id": "6d4TAw5V7o6D",
        "outputId": "f8bc2c0c-0bd4-49ed-a13e-38eafe8eb846"
      },
      "execution_count": null,
      "outputs": [
        {
          "output_type": "stream",
          "name": "stdout",
          "text": [
            "Model: \"sequential_14\"\n",
            "_________________________________________________________________\n",
            " Layer (type)                Output Shape              Param #   \n",
            "=================================================================\n",
            " conv2d_28 (Conv2D)          (None, 26, 26, 32)        320       \n",
            "                                                                 \n",
            " max_pooling2d_28 (MaxPoolin  (None, 13, 13, 32)       0         \n",
            " g2D)                                                            \n",
            "                                                                 \n",
            " conv2d_29 (Conv2D)          (None, 11, 11, 32)        9248      \n",
            "                                                                 \n",
            " max_pooling2d_29 (MaxPoolin  (None, 5, 5, 32)         0         \n",
            " g2D)                                                            \n",
            "                                                                 \n",
            " flatten_14 (Flatten)        (None, 800)               0         \n",
            "                                                                 \n",
            " dense_28 (Dense)            (None, 256)               205056    \n",
            "                                                                 \n",
            " dense_29 (Dense)            (None, 238)               61166     \n",
            "                                                                 \n",
            "=================================================================\n",
            "Total params: 275,790\n",
            "Trainable params: 275,790\n",
            "Non-trainable params: 0\n",
            "_________________________________________________________________\n",
            "Epoch 1/15\n",
            "942/942 [==============================] - 10s 9ms/step - loss: 2.2350 - accuracy: 0.4635 - val_loss: 1.1366 - val_accuracy: 0.6713\n",
            "Epoch 2/15\n",
            "942/942 [==============================] - 9s 9ms/step - loss: 0.8562 - accuracy: 0.7466 - val_loss: 0.8216 - val_accuracy: 0.7519\n",
            "Epoch 3/15\n",
            "942/942 [==============================] - 7s 7ms/step - loss: 0.5638 - accuracy: 0.8253 - val_loss: 0.7612 - val_accuracy: 0.7720\n",
            "Epoch 4/15\n",
            "942/942 [==============================] - 8s 8ms/step - loss: 0.4028 - accuracy: 0.8712 - val_loss: 0.7659 - val_accuracy: 0.7802\n",
            "Epoch 5/15\n",
            "942/942 [==============================] - 7s 7ms/step - loss: 0.2912 - accuracy: 0.9052 - val_loss: 0.8117 - val_accuracy: 0.7768\n",
            "Epoch 6/15\n",
            "942/942 [==============================] - 8s 8ms/step - loss: 0.2170 - accuracy: 0.9281 - val_loss: 0.8670 - val_accuracy: 0.7793\n",
            "Epoch 7/15\n",
            "942/942 [==============================] - 9s 10ms/step - loss: 0.1656 - accuracy: 0.9445 - val_loss: 0.9537 - val_accuracy: 0.7761\n",
            "Epoch 8/15\n",
            "942/942 [==============================] - 9s 9ms/step - loss: 0.1372 - accuracy: 0.9513 - val_loss: 0.9986 - val_accuracy: 0.7818\n",
            "Epoch 9/15\n",
            "942/942 [==============================] - 7s 8ms/step - loss: 0.1171 - accuracy: 0.9594 - val_loss: 1.0216 - val_accuracy: 0.7843\n",
            "Epoch 10/15\n",
            "942/942 [==============================] - 7s 7ms/step - loss: 0.0985 - accuracy: 0.9672 - val_loss: 1.0687 - val_accuracy: 0.7839\n",
            "Epoch 11/15\n",
            "942/942 [==============================] - 8s 8ms/step - loss: 0.0916 - accuracy: 0.9689 - val_loss: 1.0763 - val_accuracy: 0.7923\n",
            "Epoch 12/15\n",
            "942/942 [==============================] - 9s 9ms/step - loss: 0.0760 - accuracy: 0.9730 - val_loss: 1.1469 - val_accuracy: 0.7910\n",
            "Epoch 13/15\n",
            "942/942 [==============================] - 9s 10ms/step - loss: 0.0782 - accuracy: 0.9743 - val_loss: 1.1521 - val_accuracy: 0.7915\n",
            "Epoch 14/15\n",
            "942/942 [==============================] - 7s 7ms/step - loss: 0.0687 - accuracy: 0.9772 - val_loss: 1.2128 - val_accuracy: 0.7884\n",
            "Epoch 15/15\n",
            "942/942 [==============================] - 7s 7ms/step - loss: 0.0557 - accuracy: 0.9825 - val_loss: 1.2084 - val_accuracy: 0.7939\n"
          ]
        }
      ]
    },
    {
      "cell_type": "code",
      "source": [
        "# Plots different values of interest from the epochs of training\n",
        "def plot_Accuracy(r):\n",
        "  plt.plot(r.history['val_accuracy'], label = 'val_accuracy')\n",
        "  plt.plot(r.history['accuracy'], label='accuracy')\n",
        "  plt.plot(r.history['loss'], label='loss')\n",
        "  plt.ylabel('Accuracy')\n",
        "  plt.xlabel('Epochs')\n",
        "  plt.ylim([0.4, 1])\n",
        "  plt.legend(loc='lower left')\n",
        "  plt.title(\"Accuracy of the model\")"
      ],
      "metadata": {
        "id": "6dKKaKFaqzMQ"
      },
      "execution_count": null,
      "outputs": []
    },
    {
      "cell_type": "code",
      "source": [
        "plot_Accuracy(reportHist)"
      ],
      "metadata": {
        "colab": {
          "base_uri": "https://localhost:8080/",
          "height": 295
        },
        "id": "qW7WBGz0jIoX",
        "outputId": "1de6a07f-5246-4585-c601-fa1e2f4d0c64"
      },
      "execution_count": null,
      "outputs": [
        {
          "output_type": "display_data",
          "data": {
            "text/plain": [
              "<Figure size 432x288 with 1 Axes>"
            ],
            "image/png": "[encoded data removed]"
          },
          "metadata": {
            "needs_background": "light"
          }
        }
      ]
    },
    {
      "cell_type": "markdown",
      "source": [
        "# SVM model"
      ],
      "metadata": {
        "id": "T2IjqdYSH9og"
      }
    },
    {
      "cell_type": "markdown",
      "source": [
        "Upload the data as shown below, so that it fits with the code."
      ],
      "metadata": {
        "id": "oaeLhOZcIVew"
      }
    },
    {
      "cell_type": "code",
      "source": [
        "!rm data -rf\n",
        "!mkdir \"data\" -p\n",
        "%cd \"data\"\n",
        "!unrar e \"../Amharic Character Dataset 1.rar\"\n",
        "!unrar e \"../Amharic Character Dataset 2.rar\"\n",
        "%cd \"..\""
      ],
      "metadata": {
        "id": "sOgofP6xIp4w"
      },
      "execution_count": null,
      "outputs": []
    },
    {
      "cell_type": "code",
      "execution_count": null,
      "metadata": {
        "id": "_Y4MxIc_MfqY",
        "outputId": "1f693044-63ec-4020-8ae4-c5e2e5415b1a"
      },
      "outputs": [
        {
          "name": "stdout",
          "output_type": "stream",
          "text": [
            "Accuracy: 0.8405333333333334\n"
          ]
        }
      ],
      "source": [
        "import numpy as np\n",
        "import cv2\n",
        "import os\n",
        "from sklearn.svm import SVC\n",
        "from sklearn.model_selection import train_test_split\n",
        "from sklearn.metrics import accuracy_score\n",
        "from skimage.feature import hog\n",
        "\n",
        "# Load the dataset\n",
        "data_dir = 'data'\n",
        "char_images = []\n",
        "char_labels = []\n",
        "for image_path in os.listdir(data_dir):\n",
        "     if image_path.endswith('.jpg'):\n",
        "        image = cv2.imread(os.path.join(data_dir, image_path), 0)\n",
        "        image = cv2.resize(image, (64, 64))\n",
        "        char_images.append(image)\n",
        "        label = image_path.split('.')[0]\n",
        "        char_labels.append(label)\n",
        "\n",
        "# Extract HOG features from the images\n",
        "hog_features = []\n",
        "for image in char_images:\n",
        "    feature = hog(image, orientations=9, pixels_per_cell=(8, 8), cells_per_block=(2, 2), visualize=False)\n",
        "    hog_features.append(feature)\n",
        "X = np.array(hog_features)\n",
        "y = np.array(char_labels)\n",
        "\n",
        "# Split the data into training and testing sets\n",
        "X_train, X_test, y_train, y_test = train_test_split(X, y, test_size=0.2, random_state=42)\n",
        "\n",
        "# Train an SVM classifier\n",
        "svm = SVC(kernel='linear')\n",
        "svm.fit(X_train, y_train)\n",
        "\n",
        "# Evaluate the performance of the classifier\n",
        "y_pred = svm.predict(X_test)\n",
        "accuracy = accuracy_score(y_test, y_pred)\n",
        "print('Accuracy:', accuracy)\n"
      ]
    }
  ],
  "metadata": {
    "colab": {
      "provenance": []
    },
    "kernelspec": {
      "display_name": "Python 3",
      "name": "python3"
    },
    "language_info": {
      "name": "python"
    },
    "accelerator": "GPU",
    "gpuClass": "standard"
  },
  "nbformat": 4,
  "nbformat_minor": 0
}